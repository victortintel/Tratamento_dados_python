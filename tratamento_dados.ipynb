{
 "cells": [
  {
   "cell_type": "markdown",
   "metadata": {},
   "source": [
    "# Tratamento de Dados\n",
    "\n",
    "<p>Neste exemplo estarei realizando uma analise dos dados e realizando um tratamento de dados em algumas variávels que necessitam de tratamento. <br>\n",
    "<p>Realizarei um tratamento dos dados visando a preparação para uma futura criação de um modelo preditivo de machine learning."
   ]
  },
  {
   "cell_type": "code",
   "execution_count": 2,
   "metadata": {},
   "outputs": [],
   "source": [
    "# A primeira coisa que temos que fazer é importar os pacotes que iremos utilizar.\n",
    "\n",
    "# Pandas: Possui inúmeras funções e comandos para importar arquivos, analisar dados, tratar dados, etc.\n",
    "import pandas as pd\n",
    "\n",
    "# Matplotlib: Possui uma série de funções e comandos para exibição de gráficos\n",
    "import matplotlib.pyplot as plt\n",
    "\n",
    "# Seaborn: Possui uma série de funções e comandos para exibição de gráficos (Visualizações mais robustas do que o Matplotlib)\n",
    "import seaborn as sns\n",
    "\n",
    "# Numpy: Possui uma série de funções e comandos para trabalharmos com números de forma em geral(formatação, calculos, etc)\n",
    "import numpy as np\n",
    "\n",
    "# Warnings: Possui detalhes sobre os avisos e alertas que aparecem, porém podemos utiliza-lo também para que os alertas de\n",
    "# uturas atualizações e metodos depreciados não sejam exibidos\n",
    "import warnings\n",
    "warnings.filterwarnings(\"ignore\") \n",
    "\n",
    "# Locale: Utilizado para formatação de datas, valores, dias de acordo com a região que queremos.\n",
    "import locale"
   ]
  },
  {
   "cell_type": "code",
   "execution_count": 4,
   "metadata": {},
   "outputs": [],
   "source": [
    "# Comando para exibir todas colunas do arquivo\n",
    "\n",
    "pd.set_option('display.max_columns', None)\n",
    "pd.set_option('display.max_rows', None)"
   ]
  },
  {
   "cell_type": "code",
   "execution_count": 6,
   "metadata": {},
   "outputs": [],
   "source": [
    "# Comando utilizado para carregar o arquivo e armazena-lo como um DataFrame do Pandas\n",
    "\n",
    "df_dados = pd.read_excel(\"dados.xlsx\")"
   ]
  },
  {
   "cell_type": "code",
   "execution_count": 8,
   "metadata": {},
   "outputs": [
    {
     "data": {
      "text/plain": [
       "(986, 10)"
      ]
     },
     "execution_count": 8,
     "metadata": {},
     "output_type": "execute_result"
    }
   ],
   "source": [
    "# Comando utilizado para verificar a quantidade de linhas e colunas do arquivo\n",
    "# Colunas também são chamadas de variáveis.\n",
    "\n",
    "df_dados.shape"
   ]
  },
  {
   "cell_type": "code",
   "execution_count": 12,
   "metadata": {},
   "outputs": [
    {
     "data": {
      "text/html": [
       "<div>\n",
       "<style scoped>\n",
       "    .dataframe tbody tr th:only-of-type {\n",
       "        vertical-align: middle;\n",
       "    }\n",
       "\n",
       "    .dataframe tbody tr th {\n",
       "        vertical-align: top;\n",
       "    }\n",
       "\n",
       "    .dataframe thead th {\n",
       "        text-align: right;\n",
       "    }\n",
       "</style>\n",
       "<table border=\"1\" class=\"dataframe\">\n",
       "  <thead>\n",
       "    <tr style=\"text-align: right;\">\n",
       "      <th></th>\n",
       "      <th>DATA_VENDA</th>\n",
       "      <th>MODELO</th>\n",
       "      <th>KM-LITRO</th>\n",
       "      <th>CILINDROS</th>\n",
       "      <th>PESO(KG)</th>\n",
       "      <th>VELOCIDADE_MAXIMA(KM/H)</th>\n",
       "      <th>CAVALOS</th>\n",
       "      <th>TRANSMISSAO</th>\n",
       "      <th>VALOR</th>\n",
       "      <th>CATEGORIA</th>\n",
       "    </tr>\n",
       "  </thead>\n",
       "  <tbody>\n",
       "    <tr>\n",
       "      <th>0</th>\n",
       "      <td>10/1/2020</td>\n",
       "      <td>LABORGUINI</td>\n",
       "      <td>3.0</td>\n",
       "      <td>12</td>\n",
       "      <td>1200</td>\n",
       "      <td>360</td>\n",
       "      <td>700</td>\n",
       "      <td>AUTOMATICO</td>\n",
       "      <td>50000000</td>\n",
       "      <td>IMPORTADO</td>\n",
       "    </tr>\n",
       "    <tr>\n",
       "      <th>1</th>\n",
       "      <td>10/1/2020</td>\n",
       "      <td>LABORGUINI</td>\n",
       "      <td>3.0</td>\n",
       "      <td>12</td>\n",
       "      <td>1200</td>\n",
       "      <td>360</td>\n",
       "      <td>700</td>\n",
       "      <td>AUTOMATICO</td>\n",
       "      <td>50000000</td>\n",
       "      <td>IMPORTADO</td>\n",
       "    </tr>\n",
       "    <tr>\n",
       "      <th>2</th>\n",
       "      <td>10/1/2020</td>\n",
       "      <td>LABORGUINI</td>\n",
       "      <td>3.0</td>\n",
       "      <td>12</td>\n",
       "      <td>1200</td>\n",
       "      <td>360</td>\n",
       "      <td>700</td>\n",
       "      <td>AUTOMATICO</td>\n",
       "      <td>900000</td>\n",
       "      <td>IMPORTADO</td>\n",
       "    </tr>\n",
       "    <tr>\n",
       "      <th>3</th>\n",
       "      <td>10/1/2020</td>\n",
       "      <td>FERRARI</td>\n",
       "      <td>3.0</td>\n",
       "      <td>12</td>\n",
       "      <td>1400</td>\n",
       "      <td>360</td>\n",
       "      <td>640</td>\n",
       "      <td>AUTOMATICO</td>\n",
       "      <td>900000</td>\n",
       "      <td>IMPORTADO</td>\n",
       "    </tr>\n",
       "    <tr>\n",
       "      <th>4</th>\n",
       "      <td>10/1/2020</td>\n",
       "      <td>ASTON MARTIN</td>\n",
       "      <td>3.5</td>\n",
       "      <td>10</td>\n",
       "      <td>1600</td>\n",
       "      <td>360</td>\n",
       "      <td>620</td>\n",
       "      <td>AUTOMATICO</td>\n",
       "      <td>900000</td>\n",
       "      <td>IMPORTADO</td>\n",
       "    </tr>\n",
       "  </tbody>\n",
       "</table>\n",
       "</div>"
      ],
      "text/plain": [
       "  DATA_VENDA        MODELO  KM-LITRO  CILINDROS  PESO(KG)  \\\n",
       "0  10/1/2020    LABORGUINI       3.0         12      1200   \n",
       "1  10/1/2020    LABORGUINI       3.0         12      1200   \n",
       "2  10/1/2020    LABORGUINI       3.0         12      1200   \n",
       "3  10/1/2020       FERRARI       3.0         12      1400   \n",
       "4  10/1/2020  ASTON MARTIN       3.5         10      1600   \n",
       "\n",
       "   VELOCIDADE_MAXIMA(KM/H)  CAVALOS TRANSMISSAO     VALOR  CATEGORIA  \n",
       "0                      360      700  AUTOMATICO  50000000  IMPORTADO  \n",
       "1                      360      700  AUTOMATICO  50000000  IMPORTADO  \n",
       "2                      360      700  AUTOMATICO    900000  IMPORTADO  \n",
       "3                      360      640  AUTOMATICO    900000  IMPORTADO  \n",
       "4                      360      620  AUTOMATICO    900000  IMPORTADO  "
      ]
     },
     "execution_count": 12,
     "metadata": {},
     "output_type": "execute_result"
    }
   ],
   "source": [
    "# Comando utilizado para verificar as linhas iniciais do DataFrame\n",
    "\n",
    "df_dados.head()"
   ]
  },
  {
   "cell_type": "code",
   "execution_count": 14,
   "metadata": {},
   "outputs": [
    {
     "data": {
      "text/html": [
       "<div>\n",
       "<style scoped>\n",
       "    .dataframe tbody tr th:only-of-type {\n",
       "        vertical-align: middle;\n",
       "    }\n",
       "\n",
       "    .dataframe tbody tr th {\n",
       "        vertical-align: top;\n",
       "    }\n",
       "\n",
       "    .dataframe thead th {\n",
       "        text-align: right;\n",
       "    }\n",
       "</style>\n",
       "<table border=\"1\" class=\"dataframe\">\n",
       "  <thead>\n",
       "    <tr style=\"text-align: right;\">\n",
       "      <th></th>\n",
       "      <th>DATA_VENDA</th>\n",
       "      <th>MODELO</th>\n",
       "      <th>KM-LITRO</th>\n",
       "      <th>CILINDROS</th>\n",
       "      <th>PESO(KG)</th>\n",
       "      <th>VELOCIDADE_MAXIMA(KM/H)</th>\n",
       "      <th>CAVALOS</th>\n",
       "      <th>TRANSMISSAO</th>\n",
       "      <th>VALOR</th>\n",
       "      <th>CATEGORIA</th>\n",
       "    </tr>\n",
       "  </thead>\n",
       "  <tbody>\n",
       "    <tr>\n",
       "      <th>981</th>\n",
       "      <td>10/12/2021</td>\n",
       "      <td>HONDA FIT</td>\n",
       "      <td>12.0</td>\n",
       "      <td>4</td>\n",
       "      <td>1700</td>\n",
       "      <td>200</td>\n",
       "      <td>116</td>\n",
       "      <td>AUTOMATICO</td>\n",
       "      <td>120000</td>\n",
       "      <td>NACIONAL</td>\n",
       "    </tr>\n",
       "    <tr>\n",
       "      <th>982</th>\n",
       "      <td>10/12/2021</td>\n",
       "      <td>PALIO</td>\n",
       "      <td>11.0</td>\n",
       "      <td>4</td>\n",
       "      <td>1700</td>\n",
       "      <td>200</td>\n",
       "      <td>118</td>\n",
       "      <td>MANUAL</td>\n",
       "      <td>60000</td>\n",
       "      <td>NACIONAL</td>\n",
       "    </tr>\n",
       "    <tr>\n",
       "      <th>983</th>\n",
       "      <td>10/12/2021</td>\n",
       "      <td>UNO</td>\n",
       "      <td>13.5</td>\n",
       "      <td>4</td>\n",
       "      <td>1700</td>\n",
       "      <td>200</td>\n",
       "      <td>118</td>\n",
       "      <td>MANUAL</td>\n",
       "      <td>48000</td>\n",
       "      <td>NACIONAL</td>\n",
       "    </tr>\n",
       "    <tr>\n",
       "      <th>984</th>\n",
       "      <td>10/12/2021</td>\n",
       "      <td>MOBI</td>\n",
       "      <td>14.0</td>\n",
       "      <td>4</td>\n",
       "      <td>1700</td>\n",
       "      <td>200</td>\n",
       "      <td>118</td>\n",
       "      <td>MANUAL</td>\n",
       "      <td>42000</td>\n",
       "      <td>NACIONAL</td>\n",
       "    </tr>\n",
       "    <tr>\n",
       "      <th>985</th>\n",
       "      <td>10/12/2021</td>\n",
       "      <td>PASSAT</td>\n",
       "      <td>8.0</td>\n",
       "      <td>6</td>\n",
       "      <td>1800</td>\n",
       "      <td>200</td>\n",
       "      <td>118</td>\n",
       "      <td>MANUAL</td>\n",
       "      <td>200000</td>\n",
       "      <td>IMPORTADO</td>\n",
       "    </tr>\n",
       "  </tbody>\n",
       "</table>\n",
       "</div>"
      ],
      "text/plain": [
       "     DATA_VENDA     MODELO  KM-LITRO  CILINDROS  PESO(KG)  \\\n",
       "981  10/12/2021  HONDA FIT      12.0          4      1700   \n",
       "982  10/12/2021      PALIO      11.0          4      1700   \n",
       "983  10/12/2021        UNO      13.5          4      1700   \n",
       "984  10/12/2021       MOBI      14.0          4      1700   \n",
       "985  10/12/2021     PASSAT       8.0          6      1800   \n",
       "\n",
       "     VELOCIDADE_MAXIMA(KM/H)  CAVALOS TRANSMISSAO   VALOR  CATEGORIA  \n",
       "981                      200      116  AUTOMATICO  120000   NACIONAL  \n",
       "982                      200      118      MANUAL   60000   NACIONAL  \n",
       "983                      200      118      MANUAL   48000   NACIONAL  \n",
       "984                      200      118      MANUAL   42000   NACIONAL  \n",
       "985                      200      118      MANUAL  200000  IMPORTADO  "
      ]
     },
     "execution_count": 14,
     "metadata": {},
     "output_type": "execute_result"
    }
   ],
   "source": [
    "# Comando utilizado para verificar as linhas finais do DataFrame\n",
    "\n",
    "df_dados.tail()"
   ]
  },
  {
   "cell_type": "code",
   "execution_count": 16,
   "metadata": {},
   "outputs": [
    {
     "name": "stdout",
     "output_type": "stream",
     "text": [
      "Período dos dados - De: 2020-10-01 Até: 2021-10-12\n"
     ]
    }
   ],
   "source": [
    "# Avaliar o período dos dados coletados\n",
    "\n",
    "inicio = pd.to_datetime(df_dados['DATA_VENDA']).dt.date.min()\n",
    "fim = pd.to_datetime(df_dados['DATA_VENDA']).dt.date.max()\n",
    "print('Período dos dados - De:', inicio, 'Até:',fim)"
   ]
  },
  {
   "cell_type": "code",
   "execution_count": 18,
   "metadata": {},
   "outputs": [
    {
     "name": "stdout",
     "output_type": "stream",
     "text": [
      "<class 'pandas.core.frame.DataFrame'>\n",
      "RangeIndex: 986 entries, 0 to 985\n",
      "Data columns (total 10 columns):\n",
      " #   Column                   Non-Null Count  Dtype  \n",
      "---  ------                   --------------  -----  \n",
      " 0   DATA_VENDA               986 non-null    object \n",
      " 1   MODELO                   986 non-null    object \n",
      " 2   KM-LITRO                 984 non-null    float64\n",
      " 3   CILINDROS                986 non-null    int64  \n",
      " 4   PESO(KG)                 986 non-null    int64  \n",
      " 5   VELOCIDADE_MAXIMA(KM/H)  986 non-null    int64  \n",
      " 6   CAVALOS                  986 non-null    int64  \n",
      " 7   TRANSMISSAO              986 non-null    object \n",
      " 8   VALOR                    986 non-null    object \n",
      " 9   CATEGORIA                986 non-null    object \n",
      "dtypes: float64(1), int64(4), object(5)\n",
      "memory usage: 77.2+ KB\n"
     ]
    }
   ],
   "source": [
    "# Comando utilizado para verificar informações sobre os dados(Tipo de variáveis, Variáveis, Quantidade de registros, etc)\n",
    "\n",
    "# Neste caso a variavel DATA_VENDA deve ser do tipo Date e a variavel VALOR do tipo Float. Precisamos tratar essas variáveis.\n",
    "\n",
    "df_dados.info()"
   ]
  },
  {
   "cell_type": "markdown",
   "metadata": {},
   "source": [
    "- Podemos pensar do porquê o campo VALOR está como objeto. Provavelmente o que pode ter acontecido é que na base de dados, em algum momento algum campo pode ter sido digitado errado e o campo que era para ter só números pode ter tido algum erro e aparecido uma letra. Como o python, analisando isso, não conseguiu transformar tudo para Float, ele transformou em um objeto, que no caso é uma string."
   ]
  },
  {
   "cell_type": "code",
   "execution_count": 24,
   "metadata": {},
   "outputs": [
    {
     "data": {
      "text/plain": [
       "VALOR\n",
       "18000         48\n",
       "28000         42\n",
       "30000         24\n",
       "35000         42\n",
       "40000         30\n",
       "42000         66\n",
       "48000         66\n",
       "60000         66\n",
       "85000         36\n",
       "110000        24\n",
       "120000        66\n",
       "150000        36\n",
       "200000        65\n",
       "220000        36\n",
       "280000        66\n",
       "400000        36\n",
       "800000        66\n",
       "900000       168\n",
       "50000000       2\n",
       "SEM VALOR      1\n",
       "dtype: int64"
      ]
     },
     "execution_count": 24,
     "metadata": {},
     "output_type": "execute_result"
    }
   ],
   "source": [
    "# Dessa forma podemos agrupar os valores e identificar se há algum valor discrepante.\n",
    "# Observe que há um valor que foi inserido como \"SEM VALOR\"\n",
    "\n",
    "df_dados.groupby(['VALOR']).size()"
   ]
  },
  {
   "cell_type": "code",
   "execution_count": 26,
   "metadata": {},
   "outputs": [
    {
     "data": {
      "text/html": [
       "<div>\n",
       "<style scoped>\n",
       "    .dataframe tbody tr th:only-of-type {\n",
       "        vertical-align: middle;\n",
       "    }\n",
       "\n",
       "    .dataframe tbody tr th {\n",
       "        vertical-align: top;\n",
       "    }\n",
       "\n",
       "    .dataframe thead th {\n",
       "        text-align: right;\n",
       "    }\n",
       "</style>\n",
       "<table border=\"1\" class=\"dataframe\">\n",
       "  <thead>\n",
       "    <tr style=\"text-align: right;\">\n",
       "      <th></th>\n",
       "      <th>DATA_VENDA</th>\n",
       "      <th>MODELO</th>\n",
       "      <th>KM-LITRO</th>\n",
       "      <th>CILINDROS</th>\n",
       "      <th>PESO(KG)</th>\n",
       "      <th>VELOCIDADE_MAXIMA(KM/H)</th>\n",
       "      <th>CAVALOS</th>\n",
       "      <th>TRANSMISSAO</th>\n",
       "      <th>VALOR</th>\n",
       "      <th>CATEGORIA</th>\n",
       "    </tr>\n",
       "  </thead>\n",
       "  <tbody>\n",
       "    <tr>\n",
       "      <th>45</th>\n",
       "      <td>10/3/2020</td>\n",
       "      <td>PASSAT</td>\n",
       "      <td>8.0</td>\n",
       "      <td>6</td>\n",
       "      <td>1800</td>\n",
       "      <td>200</td>\n",
       "      <td>118</td>\n",
       "      <td>MANUAL</td>\n",
       "      <td>SEM VALOR</td>\n",
       "      <td>IMPORTADO</td>\n",
       "    </tr>\n",
       "  </tbody>\n",
       "</table>\n",
       "</div>"
      ],
      "text/plain": [
       "   DATA_VENDA  MODELO  KM-LITRO  CILINDROS  PESO(KG)  VELOCIDADE_MAXIMA(KM/H)  \\\n",
       "45  10/3/2020  PASSAT       8.0          6      1800                      200   \n",
       "\n",
       "    CAVALOS TRANSMISSAO      VALOR  CATEGORIA  \n",
       "45      118      MANUAL  SEM VALOR  IMPORTADO  "
      ]
     },
     "execution_count": 26,
     "metadata": {},
     "output_type": "execute_result"
    }
   ],
   "source": [
    "# Aqui poderíamos resolver de duas formas.\n",
    "\n",
    "# A primeira forma seria excluir todo o registro, mas estariamos perdendo dados.\n",
    "# df_dados.drop(df_dados.loc[df_dados['VALOR']=='SEM VALOR'].index, inplace=True)\n",
    "\n",
    "\n",
    "# A segunda forma seria verificar o valor médio ou da mediana deste modelo e substituir a palavra SEM VALOR para um valor médio.\n",
    "\n",
    "df_dados.loc[df_dados['VALOR'] == 'SEM VALOR']\n"
   ]
  },
  {
   "cell_type": "markdown",
   "metadata": {},
   "source": [
    "- Como verificamos e percebemos que temos 986 linhas e esse problema só aconteceu com apenas 1 linha, o ideal seria apagar esse dado, mas se fossem muitas linhas, provavelmente isso não seria a opção ideal porque isso nos faria perder informações."
   ]
  },
  {
   "cell_type": "code",
   "execution_count": 29,
   "metadata": {},
   "outputs": [],
   "source": [
    "# Agora substituimos a palavra SEM VALOR pelo valor ZERO\n",
    "\n",
    "df_dados.loc[(df_dados['VALOR'] == 'SEM VALOR'), 'VALOR'] = 0"
   ]
  },
  {
   "cell_type": "code",
   "execution_count": 31,
   "metadata": {},
   "outputs": [],
   "source": [
    "# Em seguida convertemos o campo em float\n",
    "# Isso porque temos que lembrar que antes estava essa coluna como objeto.\n",
    "\n",
    "df_dados['VALOR'] = df_dados['VALOR'].astype(np.float64)"
   ]
  },
  {
   "cell_type": "code",
   "execution_count": 37,
   "metadata": {},
   "outputs": [
    {
     "data": {
      "text/plain": [
       "VALOR\n",
       "0.0             1\n",
       "18000.0        48\n",
       "28000.0        42\n",
       "30000.0        24\n",
       "35000.0        42\n",
       "40000.0        30\n",
       "42000.0        66\n",
       "48000.0        66\n",
       "60000.0        66\n",
       "85000.0        36\n",
       "110000.0       24\n",
       "120000.0       66\n",
       "150000.0       36\n",
       "200000.0       65\n",
       "220000.0       36\n",
       "280000.0       66\n",
       "400000.0       36\n",
       "800000.0       66\n",
       "900000.0      168\n",
       "50000000.0      2\n",
       "dtype: int64"
      ]
     },
     "execution_count": 37,
     "metadata": {},
     "output_type": "execute_result"
    }
   ],
   "source": [
    "# Aqui podemos perceber que o campo \"SEM VALOR\" não existe mais.\n",
    "\n",
    "df_dados.groupby(['VALOR']).size()"
   ]
  },
  {
   "cell_type": "code",
   "execution_count": 41,
   "metadata": {},
   "outputs": [
    {
     "name": "stdout",
     "output_type": "stream",
     "text": [
      "<class 'pandas.core.frame.DataFrame'>\n",
      "RangeIndex: 986 entries, 0 to 985\n",
      "Data columns (total 10 columns):\n",
      " #   Column                   Non-Null Count  Dtype  \n",
      "---  ------                   --------------  -----  \n",
      " 0   DATA_VENDA               986 non-null    object \n",
      " 1   MODELO                   986 non-null    object \n",
      " 2   KM-LITRO                 984 non-null    float64\n",
      " 3   CILINDROS                986 non-null    int64  \n",
      " 4   PESO(KG)                 986 non-null    int64  \n",
      " 5   VELOCIDADE_MAXIMA(KM/H)  986 non-null    int64  \n",
      " 6   CAVALOS                  986 non-null    int64  \n",
      " 7   TRANSMISSAO              986 non-null    object \n",
      " 8   VALOR                    986 non-null    float64\n",
      " 9   CATEGORIA                986 non-null    object \n",
      "dtypes: float64(2), int64(4), object(4)\n",
      "memory usage: 77.2+ KB\n"
     ]
    }
   ],
   "source": [
    "# Aqui podemos ver que o tipo do campo VALOR agora está como FLOAT64.\n",
    "\n",
    "df_dados.info()"
   ]
  },
  {
   "cell_type": "code",
   "execution_count": 55,
   "metadata": {},
   "outputs": [
    {
     "name": "stdout",
     "output_type": "stream",
     "text": [
      "KM-LITRO                        8.0\n",
      "CILINDROS                       6.0\n",
      "PESO(KG)                     1800.0\n",
      "VELOCIDADE_MAXIMA(KM/H)       200.0\n",
      "CAVALOS                       118.0\n",
      "VALOR                      200000.0\n",
      "dtype: float64\n"
     ]
    }
   ],
   "source": [
    "# Verificamos os valores medianos da coluna modelo para substituir o valor ZERO\n",
    "\n",
    "df_passat = df_dados.loc[df_dados['MODELO'] == 'PASSAT'].select_dtypes(include=['number'])\n",
    "medianas_passat = df_passat.median()\n",
    "print(medianas_passat)"
   ]
  },
  {
   "cell_type": "code",
   "execution_count": 59,
   "metadata": {},
   "outputs": [],
   "source": [
    "# Aqui atualizamos o valor conforme a mediana daquele modelo\n",
    "# Onde a coluna VALOR é igual a 0, nós substituimos por 200000.\n",
    "\n",
    "df_dados.loc[(df_dados['VALOR'] == 200000), 'VALOR'] = 0"
   ]
  },
  {
   "cell_type": "markdown",
   "metadata": {},
   "source": [
    "- Temos que lembrar que nós só fizemos essa mudança para o 0, precisamos fazer isso por conta de que anteriormente a coluna estava como objeto, então tivemos que passar para float primeiro."
   ]
  },
  {
   "cell_type": "code",
   "execution_count": 64,
   "metadata": {},
   "outputs": [
    {
     "data": {
      "text/plain": [
       "DATA_VENDA                 0\n",
       "MODELO                     0\n",
       "KM-LITRO                   2\n",
       "CILINDROS                  0\n",
       "PESO(KG)                   0\n",
       "VELOCIDADE_MAXIMA(KM/H)    0\n",
       "CAVALOS                    0\n",
       "TRANSMISSAO                0\n",
       "VALOR                      0\n",
       "CATEGORIA                  0\n",
       "dtype: int64"
      ]
     },
     "execution_count": 64,
     "metadata": {},
     "output_type": "execute_result"
    }
   ],
   "source": [
    "# Comando utilizado para avaliar se alguma variável possui valor nulo ou chamado de valores missing ou NAN (Not Available)\n",
    "# Podemos perceber que na coluna KM-LITRO, apresenta dois registros com valores missing ou NAN.  \n",
    "\n",
    "df_dados.isnull().sum()"
   ]
  },
  {
   "cell_type": "code",
   "execution_count": 68,
   "metadata": {},
   "outputs": [],
   "source": [
    "# Agora iremos tratar os valores missing, ou seja, os registros que não possuem valores.\n",
    "# Uma forma bem mais simples de tratarmos o dado é utilizar direto a função FILLNA preenchendo os valores em branco \n",
    "# com a mediana.\n",
    "\n",
    "df_dados['KM-LITRO'] = df_dados['KM-LITRO'].fillna((df_dados['KM-LITRO'].median()))"
   ]
  },
  {
   "cell_type": "code",
   "execution_count": 72,
   "metadata": {},
   "outputs": [
    {
     "data": {
      "text/plain": [
       "DATA_VENDA                 0\n",
       "MODELO                     0\n",
       "KM-LITRO                   0\n",
       "CILINDROS                  0\n",
       "PESO(KG)                   0\n",
       "VELOCIDADE_MAXIMA(KM/H)    0\n",
       "CAVALOS                    0\n",
       "TRANSMISSAO                0\n",
       "VALOR                      0\n",
       "CATEGORIA                  0\n",
       "dtype: int64"
      ]
     },
     "execution_count": 72,
     "metadata": {},
     "output_type": "execute_result"
    }
   ],
   "source": [
    "# Observe agora que não temos mais nenhum valor em branco\n",
    "\n",
    "df_dados.isnull().sum()"
   ]
  },
  {
   "cell_type": "code",
   "execution_count": 78,
   "metadata": {},
   "outputs": [
    {
     "name": "stdout",
     "output_type": "stream",
     "text": [
      "<class 'pandas.core.frame.DataFrame'>\n",
      "RangeIndex: 986 entries, 0 to 985\n",
      "Data columns (total 10 columns):\n",
      " #   Column                   Non-Null Count  Dtype  \n",
      "---  ------                   --------------  -----  \n",
      " 0   DATA_VENDA               986 non-null    object \n",
      " 1   MODELO                   986 non-null    object \n",
      " 2   KM-LITRO                 986 non-null    float64\n",
      " 3   CILINDROS                986 non-null    int64  \n",
      " 4   PESO(KG)                 986 non-null    int64  \n",
      " 5   VELOCIDADE_MAXIMA(KM/H)  986 non-null    int64  \n",
      " 6   CAVALOS                  986 non-null    int64  \n",
      " 7   TRANSMISSAO              986 non-null    object \n",
      " 8   VALOR                    986 non-null    float64\n",
      " 9   CATEGORIA                986 non-null    object \n",
      "dtypes: float64(2), int64(4), object(4)\n",
      "memory usage: 77.2+ KB\n"
     ]
    }
   ],
   "source": [
    "# Vamos avaliar novamente os tipos das variaveis\n",
    "\n",
    "df_dados.info()"
   ]
  },
  {
   "cell_type": "code",
   "execution_count": 76,
   "metadata": {},
   "outputs": [
    {
     "name": "stdout",
     "output_type": "stream",
     "text": [
      "KM-LITRO : float64\n",
      "CILINDROS : int64\n",
      "PESO(KG) : int64\n",
      "VELOCIDADE_MAXIMA(KM/H) : int64\n",
      "CAVALOS : int64\n",
      "VALOR : float64\n"
     ]
    }
   ],
   "source": [
    "# Agora iremos avaliar os outliers das colunas que são númericas\n",
    "# OUTLIERS são valores discrepantes que estão bem acima ou bem abaixo dos outros valores\n",
    "\n",
    "# Vamos carregar em uma lista as variaveis que são do tipo INT64 E FLOAT64\n",
    "variaveis_numericas = []\n",
    "for i in df_dados.columns[0:48].tolist():\n",
    "        if df_dados.dtypes[i] == 'int64' or df_dados.dtypes[i] == 'float64':            \n",
    "            print(i, ':' , df_dados.dtypes[i]) \n",
    "            variaveis_numericas.append(i)"
   ]
  },
  {
   "cell_type": "code",
   "execution_count": 80,
   "metadata": {},
   "outputs": [
    {
     "data": {
      "text/plain": [
       "['KM-LITRO',\n",
       " 'CILINDROS',\n",
       " 'PESO(KG)',\n",
       " 'VELOCIDADE_MAXIMA(KM/H)',\n",
       " 'CAVALOS',\n",
       " 'VALOR']"
      ]
     },
     "execution_count": 80,
     "metadata": {},
     "output_type": "execute_result"
    }
   ],
   "source": [
    "# Vamos observar a lista de variáveis e avaliar se nestas variáveis temos outliers através de um boxplot\n",
    "\n",
    "variaveis_numericas"
   ]
  },
  {
   "cell_type": "code",
   "execution_count": 86,
   "metadata": {},
   "outputs": [
    {
     "data": {
      "image/png": "[encoded data removed]",
      "text/plain": [
       "<Figure size 1200x1400 with 6 Axes>"
      ]
     },
     "metadata": {},
     "output_type": "display_data"
    }
   ],
   "source": [
    "# Com este comando irei exibir todos gráficos de todas colunas de uma vez só para facilitar nossa analise.\n",
    "\n",
    "# Aqui definimos o tamanho da tela para exibição dos gráficos\n",
    "plt.rcParams[\"figure.figsize\"] = [12.00, 14.00]\n",
    "plt.rcParams[\"figure.autolayout\"] = True\n",
    "\n",
    "# Aqui definimos em quantas linhas e colunas queremos exibir os gráficos\n",
    "f, axes = plt.subplots(3, 2) #3 linhas e 2 colunas\n",
    "\n",
    "linha = 0\n",
    "coluna = 0\n",
    "\n",
    "for i in variaveis_numericas:\n",
    "    sns.boxplot(data = df_dados, y=i, ax=axes[linha][coluna])\n",
    "    coluna += 1\n",
    "    if coluna == 2:\n",
    "        linha += 1\n",
    "        coluna = 0            \n",
    "\n",
    "plt.show()\n",
    "\n",
    "\n",
    "# Boxplots\n",
    "# Boxplot é utilizado para avaliar e comparar o formato, tendência central e variabilidade de distribuições de amostra, \n",
    "# e para procurar por outliers. Por padrão, um boxplot demonstra a mediana, os quartis, \n",
    "# o intervalo interquartil(IQR) e outliers para cada variável. \n",
    "\n",
    "# Outlier são valores que estão bem discrepantes dentro do conjunto de dados, podem ser para mais ou para menos. \n",
    "# Observe nos DOIS ULTIMOS boxplot que há os pontinhos acima das linhas. Esses valores são outliers"
   ]
  },
  {
   "cell_type": "code",
   "execution_count": 84,
   "metadata": {},
   "outputs": [
    {
     "data": {
      "text/html": [
       "<div>\n",
       "<style scoped>\n",
       "    .dataframe tbody tr th:only-of-type {\n",
       "        vertical-align: middle;\n",
       "    }\n",
       "\n",
       "    .dataframe tbody tr th {\n",
       "        vertical-align: top;\n",
       "    }\n",
       "\n",
       "    .dataframe thead th {\n",
       "        text-align: right;\n",
       "    }\n",
       "</style>\n",
       "<table border=\"1\" class=\"dataframe\">\n",
       "  <thead>\n",
       "    <tr style=\"text-align: right;\">\n",
       "      <th></th>\n",
       "      <th>DATA_VENDA</th>\n",
       "      <th>MODELO</th>\n",
       "      <th>KM-LITRO</th>\n",
       "      <th>CILINDROS</th>\n",
       "      <th>PESO(KG)</th>\n",
       "      <th>VELOCIDADE_MAXIMA(KM/H)</th>\n",
       "      <th>CAVALOS</th>\n",
       "      <th>TRANSMISSAO</th>\n",
       "      <th>VALOR</th>\n",
       "      <th>CATEGORIA</th>\n",
       "    </tr>\n",
       "  </thead>\n",
       "  <tbody>\n",
       "    <tr>\n",
       "      <th>11</th>\n",
       "      <td>10/1/2020</td>\n",
       "      <td>CORSA</td>\n",
       "      <td>9.0</td>\n",
       "      <td>4</td>\n",
       "      <td>1900</td>\n",
       "      <td>200</td>\n",
       "      <td>1800</td>\n",
       "      <td>MANUAL</td>\n",
       "      <td>35000.0</td>\n",
       "      <td>NACIONAL</td>\n",
       "    </tr>\n",
       "  </tbody>\n",
       "</table>\n",
       "</div>"
      ],
      "text/plain": [
       "   DATA_VENDA MODELO  KM-LITRO  CILINDROS  PESO(KG)  VELOCIDADE_MAXIMA(KM/H)  \\\n",
       "11  10/1/2020  CORSA       9.0          4      1900                      200   \n",
       "\n",
       "    CAVALOS TRANSMISSAO    VALOR CATEGORIA  \n",
       "11     1800      MANUAL  35000.0  NACIONAL  "
      ]
     },
     "execution_count": 84,
     "metadata": {},
     "output_type": "execute_result"
    }
   ],
   "source": [
    "# Agora já sei que tenho OUTLIERS nas variáveis CAVALOS e VALOR. Vou olhar quais são esses outliers para avaliar\n",
    "# como irei trata-los.\n",
    "\n",
    "# Como no boxplot acima mostra que o maior número de cavalos está em torno de 700, então irei listar os casos acima de 700\n",
    "# Observe que após listar só tenho um registro com OUTLIER.\n",
    "\n",
    "df_dados.loc[df_dados['CAVALOS'] > 700]"
   ]
  },
  {
   "cell_type": "code",
   "execution_count": 88,
   "metadata": {},
   "outputs": [],
   "source": [
    "# Nesse exemplo vou excluir o registro todo.\n",
    "\n",
    "df_dados.drop(df_dados.loc[df_dados['CAVALOS'] == 1800].index, inplace=True)"
   ]
  },
  {
   "cell_type": "code",
   "execution_count": 90,
   "metadata": {},
   "outputs": [
    {
     "data": {
      "text/html": [
       "<div>\n",
       "<style scoped>\n",
       "    .dataframe tbody tr th:only-of-type {\n",
       "        vertical-align: middle;\n",
       "    }\n",
       "\n",
       "    .dataframe tbody tr th {\n",
       "        vertical-align: top;\n",
       "    }\n",
       "\n",
       "    .dataframe thead th {\n",
       "        text-align: right;\n",
       "    }\n",
       "</style>\n",
       "<table border=\"1\" class=\"dataframe\">\n",
       "  <thead>\n",
       "    <tr style=\"text-align: right;\">\n",
       "      <th></th>\n",
       "      <th>DATA_VENDA</th>\n",
       "      <th>MODELO</th>\n",
       "      <th>KM-LITRO</th>\n",
       "      <th>CILINDROS</th>\n",
       "      <th>PESO(KG)</th>\n",
       "      <th>VELOCIDADE_MAXIMA(KM/H)</th>\n",
       "      <th>CAVALOS</th>\n",
       "      <th>TRANSMISSAO</th>\n",
       "      <th>VALOR</th>\n",
       "      <th>CATEGORIA</th>\n",
       "    </tr>\n",
       "  </thead>\n",
       "  <tbody>\n",
       "    <tr>\n",
       "      <th>0</th>\n",
       "      <td>10/1/2020</td>\n",
       "      <td>LABORGUINI</td>\n",
       "      <td>3.0</td>\n",
       "      <td>12</td>\n",
       "      <td>1200</td>\n",
       "      <td>360</td>\n",
       "      <td>700</td>\n",
       "      <td>AUTOMATICO</td>\n",
       "      <td>50000000.0</td>\n",
       "      <td>IMPORTADO</td>\n",
       "    </tr>\n",
       "    <tr>\n",
       "      <th>1</th>\n",
       "      <td>10/1/2020</td>\n",
       "      <td>LABORGUINI</td>\n",
       "      <td>3.0</td>\n",
       "      <td>12</td>\n",
       "      <td>1200</td>\n",
       "      <td>360</td>\n",
       "      <td>700</td>\n",
       "      <td>AUTOMATICO</td>\n",
       "      <td>50000000.0</td>\n",
       "      <td>IMPORTADO</td>\n",
       "    </tr>\n",
       "  </tbody>\n",
       "</table>\n",
       "</div>"
      ],
      "text/plain": [
       "  DATA_VENDA      MODELO  KM-LITRO  CILINDROS  PESO(KG)  \\\n",
       "0  10/1/2020  LABORGUINI       3.0         12      1200   \n",
       "1  10/1/2020  LABORGUINI       3.0         12      1200   \n",
       "\n",
       "   VELOCIDADE_MAXIMA(KM/H)  CAVALOS TRANSMISSAO       VALOR  CATEGORIA  \n",
       "0                      360      700  AUTOMATICO  50000000.0  IMPORTADO  \n",
       "1                      360      700  AUTOMATICO  50000000.0  IMPORTADO  "
      ]
     },
     "execution_count": 90,
     "metadata": {},
     "output_type": "execute_result"
    }
   ],
   "source": [
    "# Agora para a variavel VALOR vamos listar os valores maiores que 900.000\n",
    "# Observe que temos dois registros considerados outlier, ou seja, o valor está muito acima do normal.\n",
    "\n",
    "# Neste caso vamos substituir os valores pelo valor médio do modelo LAMBORGUINI.\n",
    "\n",
    "df_dados.loc[df_dados['VALOR'] > 900000]"
   ]
  },
  {
   "cell_type": "code",
   "execution_count": 94,
   "metadata": {},
   "outputs": [
    {
     "name": "stdout",
     "output_type": "stream",
     "text": [
      "KM-LITRO                        3.0\n",
      "CILINDROS                      12.0\n",
      "PESO(KG)                     1200.0\n",
      "VELOCIDADE_MAXIMA(KM/H)       360.0\n",
      "CAVALOS                       700.0\n",
      "VALOR                      900000.0\n",
      "dtype: float64\n"
     ]
    }
   ],
   "source": [
    "# Vamos identificar o valor mediana do modelo LAMBORGUINI\n",
    "\n",
    "df_lamb = df_dados.loc[df_dados['MODELO'] == 'LABORGUINI'].select_dtypes(include=['number'])\n",
    "medianas_lamb = df_lamb.median()\n",
    "print(medianas_lamb)"
   ]
  },
  {
   "cell_type": "code",
   "execution_count": 96,
   "metadata": {},
   "outputs": [],
   "source": [
    "# Aqui atualizamos o valor conforme a mediana daquele modelo\n",
    "\n",
    "df_dados.loc[(df_dados['VALOR'] > 900000), 'VALOR'] = 900000"
   ]
  },
  {
   "cell_type": "code",
   "execution_count": 98,
   "metadata": {},
   "outputs": [
    {
     "data": {
      "image/png": "[encoded data removed]",
      "text/plain": [
       "<Figure size 1200x1400 with 6 Axes>"
      ]
     },
     "metadata": {},
     "output_type": "display_data"
    }
   ],
   "source": [
    "# Vamos avaliar novamente os boxplot e verificar se ficou algum OUTLIER\n",
    "# Observe que na coluna cavalos de potencia ainda possuem alguns OUTLIERS porém nesse caso, olhando para o modelos dos carros\n",
    "# podemos observar que realmente é a potencia deles. Nesse caso podemos mante-los.\n",
    "\n",
    "# Aqui definimos o tamanho da tela para exibição dos gráficos\n",
    "plt.rcParams[\"figure.figsize\"] = [12.00, 14.00]\n",
    "plt.rcParams[\"figure.autolayout\"] = True\n",
    "\n",
    "# Aqui definimos em quantas linhas e colunas queremos exibir os gráficos\n",
    "f, axes = plt.subplots(3, 2) #3 linhas e 2 colunas\n",
    "\n",
    "linha = 0\n",
    "coluna = 0\n",
    "\n",
    "for i in variaveis_numericas:\n",
    "    sns.boxplot(data = df_dados, y=i, ax=axes[linha][coluna])\n",
    "    coluna += 1\n",
    "    if coluna == 2:\n",
    "        linha += 1\n",
    "        coluna = 0            \n",
    "\n",
    "plt.show()"
   ]
  },
  {
   "cell_type": "code",
   "execution_count": null,
   "metadata": {},
   "outputs": [],
   "source": []
  },
  {
   "cell_type": "markdown",
   "metadata": {},
   "source": [
    "# Engenharia de Atributos\n",
    "<p> A engenharia de atributos em resumo utilizarmos uma variavel existente e extrairmos mais informações dessa variável, podendo gerar novas variáveis para analise a partir desta variável existente.<br>\n",
    "<p> No exemplo abaixo iremos utilizar a variavel DATA_VENDA e criar variaveis como Ano, Mês e Dia    "
   ]
  },
  {
   "cell_type": "code",
   "execution_count": 100,
   "metadata": {},
   "outputs": [
    {
     "data": {
      "image/png": "[encoded data removed]",
      "text/plain": [
       "<Figure size 800x800 with 1 Axes>"
      ]
     },
     "metadata": {},
     "output_type": "display_data"
    }
   ],
   "source": [
    "# Agora vamos tratar a variavel DATA_VENDA\n",
    "# Aqui iremos fazer um tratamento para transformar o campo para o tipo DATE e também incluirmos novas variáveis a partir da data\n",
    "# Vamos incluir as variaveis separadas, ANO, MES e DIA\n",
    "# Vamos também incluir a variavel DIA_SEMANA e avaliarmos qual dia da semana temos mais vendas.\n",
    "\n",
    "locale.setlocale(locale.LC_ALL, 'pt_BR.utf8')\n",
    "\n",
    "df_dados['DATA_VENDA'] =  pd.to_datetime(df_dados['DATA_VENDA'], format='%d/%m/%Y')\n",
    "df_dados['DATA_VENDA'] = df_dados['DATA_VENDA'].dt.date\n",
    "df_dados['ANO_VENDA'] = pd.DatetimeIndex(df_dados['DATA_VENDA']).year\n",
    "df_dados['MES_VENDA'] = pd.DatetimeIndex(df_dados['DATA_VENDA']).month\n",
    "df_dados['DIA_VENDA'] = pd.DatetimeIndex(df_dados['DATA_VENDA']).day\n",
    "df_dados['DIA_SEMANA_VENDA'] = pd.DatetimeIndex(df_dados['DATA_VENDA']).day_name(locale = 'pt_BR.utf8')\n",
    "\n",
    "\n",
    "plt.rcParams[\"figure.figsize\"] = [8.00, 8.00]\n",
    "plt.rcParams[\"figure.autolayout\"] = True\n",
    "df_dados.DIA_SEMANA_VENDA.value_counts().plot(kind='bar', title='Vendas Por Dia da Semana',color = ['#1F77B4', '#FF7F0E']);\n"
   ]
  },
  {
   "cell_type": "code",
   "execution_count": 102,
   "metadata": {},
   "outputs": [
    {
     "data": {
      "image/png": "[encoded data removed]",
      "text/plain": [
       "<Figure size 800x800 with 1 Axes>"
      ]
     },
     "metadata": {},
     "output_type": "display_data"
    }
   ],
   "source": [
    "# Também podemos observar as vendas por ano\n",
    "\n",
    "df_dados.ANO_VENDA.value_counts().plot(kind='bar', title='Vendas Por Ano',color = ['#1F77B4', '#FF7F0E']);"
   ]
  },
  {
   "cell_type": "code",
   "execution_count": null,
   "metadata": {},
   "outputs": [],
   "source": []
  },
  {
   "cell_type": "markdown",
   "metadata": {},
   "source": [
    "# Variaveis Dummys ou One Hot Encoding\n",
    "<p> Quando estamos fazendo o tratamento dos dados para criação de um modelo de Machine Learning ou IA precisamos deixar todos os dados como números.\n",
    "<p> Para este processo utilizamos variaveis Dummys ou também as conhecidas como One Hot Encoding"
   ]
  },
  {
   "cell_type": "code",
   "execution_count": 106,
   "metadata": {},
   "outputs": [],
   "source": [
    "# Antes de gerar as variaveis dummys/one hot encoding vamos excluir as variaveis que não precisaremos mais.\n",
    "# Neste caso vamos excluir a variavel DATA_VENDA, pois já geramos as variaveis separadas de ANO, MES e DIA\n",
    "df_dados.drop('DATA_VENDA', axis=1, inplace=True)"
   ]
  },
  {
   "cell_type": "code",
   "execution_count": 108,
   "metadata": {},
   "outputs": [],
   "source": [
    "# Convert os campos categoricos para ONE HOT ENCODING\n",
    "# A imagem abaixo explica de forma simples esse tratamento\n",
    "\n",
    "df_dados = pd.get_dummies(df_dados)"
   ]
  },
  {
   "cell_type": "code",
   "execution_count": 110,
   "metadata": {},
   "outputs": [
    {
     "data": {
      "text/html": [
       "<div>\n",
       "<style scoped>\n",
       "    .dataframe tbody tr th:only-of-type {\n",
       "        vertical-align: middle;\n",
       "    }\n",
       "\n",
       "    .dataframe tbody tr th {\n",
       "        vertical-align: top;\n",
       "    }\n",
       "\n",
       "    .dataframe thead th {\n",
       "        text-align: right;\n",
       "    }\n",
       "</style>\n",
       "<table border=\"1\" class=\"dataframe\">\n",
       "  <thead>\n",
       "    <tr style=\"text-align: right;\">\n",
       "      <th></th>\n",
       "      <th>KM-LITRO</th>\n",
       "      <th>CILINDROS</th>\n",
       "      <th>PESO(KG)</th>\n",
       "      <th>VELOCIDADE_MAXIMA(KM/H)</th>\n",
       "      <th>CAVALOS</th>\n",
       "      <th>VALOR</th>\n",
       "      <th>ANO_VENDA</th>\n",
       "      <th>MES_VENDA</th>\n",
       "      <th>DIA_VENDA</th>\n",
       "      <th>MODELO_ASTON MARTIN</th>\n",
       "      <th>MODELO_BMW X1</th>\n",
       "      <th>MODELO_BMW X5</th>\n",
       "      <th>MODELO_COROLLA</th>\n",
       "      <th>MODELO_CORSA</th>\n",
       "      <th>MODELO_CRETA</th>\n",
       "      <th>MODELO_FERRARI</th>\n",
       "      <th>MODELO_GOL</th>\n",
       "      <th>MODELO_HB20</th>\n",
       "      <th>MODELO_HONDA FIT</th>\n",
       "      <th>MODELO_JEEP COMPASS</th>\n",
       "      <th>MODELO_JEEP RENEGADE</th>\n",
       "      <th>MODELO_LABORGUINI</th>\n",
       "      <th>MODELO_MERCEDES SL80</th>\n",
       "      <th>MODELO_MOBI</th>\n",
       "      <th>MODELO_PAJERO</th>\n",
       "      <th>MODELO_PALIO</th>\n",
       "      <th>MODELO_PARATI</th>\n",
       "      <th>MODELO_PASSAT</th>\n",
       "      <th>MODELO_SAVEIRO</th>\n",
       "      <th>MODELO_UNO</th>\n",
       "      <th>MODELO_VECTRA</th>\n",
       "      <th>TRANSMISSAO_AUTOMATICO</th>\n",
       "      <th>TRANSMISSAO_MANUAL</th>\n",
       "      <th>CATEGORIA_IMPORTADO</th>\n",
       "      <th>CATEGORIA_NACIONAL</th>\n",
       "      <th>DIA_SEMANA_VENDA_Domingo</th>\n",
       "      <th>DIA_SEMANA_VENDA_Quarta-feira</th>\n",
       "      <th>DIA_SEMANA_VENDA_Quinta-feira</th>\n",
       "      <th>DIA_SEMANA_VENDA_Segunda-feira</th>\n",
       "      <th>DIA_SEMANA_VENDA_Sexta-feira</th>\n",
       "      <th>DIA_SEMANA_VENDA_Sábado</th>\n",
       "      <th>DIA_SEMANA_VENDA_Terça-feira</th>\n",
       "    </tr>\n",
       "  </thead>\n",
       "  <tbody>\n",
       "    <tr>\n",
       "      <th>0</th>\n",
       "      <td>3.0</td>\n",
       "      <td>12</td>\n",
       "      <td>1200</td>\n",
       "      <td>360</td>\n",
       "      <td>700</td>\n",
       "      <td>900000.0</td>\n",
       "      <td>2020</td>\n",
       "      <td>1</td>\n",
       "      <td>10</td>\n",
       "      <td>False</td>\n",
       "      <td>False</td>\n",
       "      <td>False</td>\n",
       "      <td>False</td>\n",
       "      <td>False</td>\n",
       "      <td>False</td>\n",
       "      <td>False</td>\n",
       "      <td>False</td>\n",
       "      <td>False</td>\n",
       "      <td>False</td>\n",
       "      <td>False</td>\n",
       "      <td>False</td>\n",
       "      <td>True</td>\n",
       "      <td>False</td>\n",
       "      <td>False</td>\n",
       "      <td>False</td>\n",
       "      <td>False</td>\n",
       "      <td>False</td>\n",
       "      <td>False</td>\n",
       "      <td>False</td>\n",
       "      <td>False</td>\n",
       "      <td>False</td>\n",
       "      <td>True</td>\n",
       "      <td>False</td>\n",
       "      <td>True</td>\n",
       "      <td>False</td>\n",
       "      <td>False</td>\n",
       "      <td>False</td>\n",
       "      <td>False</td>\n",
       "      <td>False</td>\n",
       "      <td>True</td>\n",
       "      <td>False</td>\n",
       "      <td>False</td>\n",
       "    </tr>\n",
       "    <tr>\n",
       "      <th>1</th>\n",
       "      <td>3.0</td>\n",
       "      <td>12</td>\n",
       "      <td>1200</td>\n",
       "      <td>360</td>\n",
       "      <td>700</td>\n",
       "      <td>900000.0</td>\n",
       "      <td>2020</td>\n",
       "      <td>1</td>\n",
       "      <td>10</td>\n",
       "      <td>False</td>\n",
       "      <td>False</td>\n",
       "      <td>False</td>\n",
       "      <td>False</td>\n",
       "      <td>False</td>\n",
       "      <td>False</td>\n",
       "      <td>False</td>\n",
       "      <td>False</td>\n",
       "      <td>False</td>\n",
       "      <td>False</td>\n",
       "      <td>False</td>\n",
       "      <td>False</td>\n",
       "      <td>True</td>\n",
       "      <td>False</td>\n",
       "      <td>False</td>\n",
       "      <td>False</td>\n",
       "      <td>False</td>\n",
       "      <td>False</td>\n",
       "      <td>False</td>\n",
       "      <td>False</td>\n",
       "      <td>False</td>\n",
       "      <td>False</td>\n",
       "      <td>True</td>\n",
       "      <td>False</td>\n",
       "      <td>True</td>\n",
       "      <td>False</td>\n",
       "      <td>False</td>\n",
       "      <td>False</td>\n",
       "      <td>False</td>\n",
       "      <td>False</td>\n",
       "      <td>True</td>\n",
       "      <td>False</td>\n",
       "      <td>False</td>\n",
       "    </tr>\n",
       "    <tr>\n",
       "      <th>2</th>\n",
       "      <td>3.0</td>\n",
       "      <td>12</td>\n",
       "      <td>1200</td>\n",
       "      <td>360</td>\n",
       "      <td>700</td>\n",
       "      <td>900000.0</td>\n",
       "      <td>2020</td>\n",
       "      <td>1</td>\n",
       "      <td>10</td>\n",
       "      <td>False</td>\n",
       "      <td>False</td>\n",
       "      <td>False</td>\n",
       "      <td>False</td>\n",
       "      <td>False</td>\n",
       "      <td>False</td>\n",
       "      <td>False</td>\n",
       "      <td>False</td>\n",
       "      <td>False</td>\n",
       "      <td>False</td>\n",
       "      <td>False</td>\n",
       "      <td>False</td>\n",
       "      <td>True</td>\n",
       "      <td>False</td>\n",
       "      <td>False</td>\n",
       "      <td>False</td>\n",
       "      <td>False</td>\n",
       "      <td>False</td>\n",
       "      <td>False</td>\n",
       "      <td>False</td>\n",
       "      <td>False</td>\n",
       "      <td>False</td>\n",
       "      <td>True</td>\n",
       "      <td>False</td>\n",
       "      <td>True</td>\n",
       "      <td>False</td>\n",
       "      <td>False</td>\n",
       "      <td>False</td>\n",
       "      <td>False</td>\n",
       "      <td>False</td>\n",
       "      <td>True</td>\n",
       "      <td>False</td>\n",
       "      <td>False</td>\n",
       "    </tr>\n",
       "    <tr>\n",
       "      <th>3</th>\n",
       "      <td>3.0</td>\n",
       "      <td>12</td>\n",
       "      <td>1400</td>\n",
       "      <td>360</td>\n",
       "      <td>640</td>\n",
       "      <td>900000.0</td>\n",
       "      <td>2020</td>\n",
       "      <td>1</td>\n",
       "      <td>10</td>\n",
       "      <td>False</td>\n",
       "      <td>False</td>\n",
       "      <td>False</td>\n",
       "      <td>False</td>\n",
       "      <td>False</td>\n",
       "      <td>False</td>\n",
       "      <td>True</td>\n",
       "      <td>False</td>\n",
       "      <td>False</td>\n",
       "      <td>False</td>\n",
       "      <td>False</td>\n",
       "      <td>False</td>\n",
       "      <td>False</td>\n",
       "      <td>False</td>\n",
       "      <td>False</td>\n",
       "      <td>False</td>\n",
       "      <td>False</td>\n",
       "      <td>False</td>\n",
       "      <td>False</td>\n",
       "      <td>False</td>\n",
       "      <td>False</td>\n",
       "      <td>False</td>\n",
       "      <td>True</td>\n",
       "      <td>False</td>\n",
       "      <td>True</td>\n",
       "      <td>False</td>\n",
       "      <td>False</td>\n",
       "      <td>False</td>\n",
       "      <td>False</td>\n",
       "      <td>False</td>\n",
       "      <td>True</td>\n",
       "      <td>False</td>\n",
       "      <td>False</td>\n",
       "    </tr>\n",
       "    <tr>\n",
       "      <th>4</th>\n",
       "      <td>3.5</td>\n",
       "      <td>10</td>\n",
       "      <td>1600</td>\n",
       "      <td>360</td>\n",
       "      <td>620</td>\n",
       "      <td>900000.0</td>\n",
       "      <td>2020</td>\n",
       "      <td>1</td>\n",
       "      <td>10</td>\n",
       "      <td>True</td>\n",
       "      <td>False</td>\n",
       "      <td>False</td>\n",
       "      <td>False</td>\n",
       "      <td>False</td>\n",
       "      <td>False</td>\n",
       "      <td>False</td>\n",
       "      <td>False</td>\n",
       "      <td>False</td>\n",
       "      <td>False</td>\n",
       "      <td>False</td>\n",
       "      <td>False</td>\n",
       "      <td>False</td>\n",
       "      <td>False</td>\n",
       "      <td>False</td>\n",
       "      <td>False</td>\n",
       "      <td>False</td>\n",
       "      <td>False</td>\n",
       "      <td>False</td>\n",
       "      <td>False</td>\n",
       "      <td>False</td>\n",
       "      <td>False</td>\n",
       "      <td>True</td>\n",
       "      <td>False</td>\n",
       "      <td>True</td>\n",
       "      <td>False</td>\n",
       "      <td>False</td>\n",
       "      <td>False</td>\n",
       "      <td>False</td>\n",
       "      <td>False</td>\n",
       "      <td>True</td>\n",
       "      <td>False</td>\n",
       "      <td>False</td>\n",
       "    </tr>\n",
       "  </tbody>\n",
       "</table>\n",
       "</div>"
      ],
      "text/plain": [
       "   KM-LITRO  CILINDROS  PESO(KG)  VELOCIDADE_MAXIMA(KM/H)  CAVALOS     VALOR  \\\n",
       "0       3.0         12      1200                      360      700  900000.0   \n",
       "1       3.0         12      1200                      360      700  900000.0   \n",
       "2       3.0         12      1200                      360      700  900000.0   \n",
       "3       3.0         12      1400                      360      640  900000.0   \n",
       "4       3.5         10      1600                      360      620  900000.0   \n",
       "\n",
       "   ANO_VENDA  MES_VENDA  DIA_VENDA  MODELO_ASTON MARTIN  MODELO_BMW X1  \\\n",
       "0       2020          1         10                False          False   \n",
       "1       2020          1         10                False          False   \n",
       "2       2020          1         10                False          False   \n",
       "3       2020          1         10                False          False   \n",
       "4       2020          1         10                 True          False   \n",
       "\n",
       "   MODELO_BMW X5  MODELO_COROLLA  MODELO_CORSA  MODELO_CRETA  MODELO_FERRARI  \\\n",
       "0          False           False         False         False           False   \n",
       "1          False           False         False         False           False   \n",
       "2          False           False         False         False           False   \n",
       "3          False           False         False         False            True   \n",
       "4          False           False         False         False           False   \n",
       "\n",
       "   MODELO_GOL  MODELO_HB20  MODELO_HONDA FIT  MODELO_JEEP COMPASS  \\\n",
       "0       False        False             False                False   \n",
       "1       False        False             False                False   \n",
       "2       False        False             False                False   \n",
       "3       False        False             False                False   \n",
       "4       False        False             False                False   \n",
       "\n",
       "   MODELO_JEEP RENEGADE  MODELO_LABORGUINI  MODELO_MERCEDES SL80  MODELO_MOBI  \\\n",
       "0                 False               True                 False        False   \n",
       "1                 False               True                 False        False   \n",
       "2                 False               True                 False        False   \n",
       "3                 False              False                 False        False   \n",
       "4                 False              False                 False        False   \n",
       "\n",
       "   MODELO_PAJERO  MODELO_PALIO  MODELO_PARATI  MODELO_PASSAT  MODELO_SAVEIRO  \\\n",
       "0          False         False          False          False           False   \n",
       "1          False         False          False          False           False   \n",
       "2          False         False          False          False           False   \n",
       "3          False         False          False          False           False   \n",
       "4          False         False          False          False           False   \n",
       "\n",
       "   MODELO_UNO  MODELO_VECTRA  TRANSMISSAO_AUTOMATICO  TRANSMISSAO_MANUAL  \\\n",
       "0       False          False                    True               False   \n",
       "1       False          False                    True               False   \n",
       "2       False          False                    True               False   \n",
       "3       False          False                    True               False   \n",
       "4       False          False                    True               False   \n",
       "\n",
       "   CATEGORIA_IMPORTADO  CATEGORIA_NACIONAL  DIA_SEMANA_VENDA_Domingo  \\\n",
       "0                 True               False                     False   \n",
       "1                 True               False                     False   \n",
       "2                 True               False                     False   \n",
       "3                 True               False                     False   \n",
       "4                 True               False                     False   \n",
       "\n",
       "   DIA_SEMANA_VENDA_Quarta-feira  DIA_SEMANA_VENDA_Quinta-feira  \\\n",
       "0                          False                          False   \n",
       "1                          False                          False   \n",
       "2                          False                          False   \n",
       "3                          False                          False   \n",
       "4                          False                          False   \n",
       "\n",
       "   DIA_SEMANA_VENDA_Segunda-feira  DIA_SEMANA_VENDA_Sexta-feira  \\\n",
       "0                           False                          True   \n",
       "1                           False                          True   \n",
       "2                           False                          True   \n",
       "3                           False                          True   \n",
       "4                           False                          True   \n",
       "\n",
       "   DIA_SEMANA_VENDA_Sábado  DIA_SEMANA_VENDA_Terça-feira  \n",
       "0                    False                         False  \n",
       "1                    False                         False  \n",
       "2                    False                         False  \n",
       "3                    False                         False  \n",
       "4                    False                         False  "
      ]
     },
     "execution_count": 110,
     "metadata": {},
     "output_type": "execute_result"
    }
   ],
   "source": [
    "df_dados.head()"
   ]
  },
  {
   "cell_type": "code",
   "execution_count": 112,
   "metadata": {},
   "outputs": [],
   "source": [
    "# Pronto, agora já temos nosso conjunto de dados tratados.\n",
    "# Vamos salvar esse conjunto de dados com todos tratamentos.\n",
    "df_dados.to_excel('dados_com_tratamento.xlsx', index = False)"
   ]
  },
  {
   "cell_type": "markdown",
   "metadata": {},
   "source": [
    "As variáveis dummy (ou one-hot encoding) são uma técnica essencial em ciência de dados e machine learning para transformar variáveis categóricas (não numéricas) em um formato que algoritmos possam entender. "
   ]
  },
  {
   "cell_type": "code",
   "execution_count": null,
   "metadata": {},
   "outputs": [],
   "source": []
  }
 ],
 "metadata": {
  "kernelspec": {
   "display_name": "Python [conda env:base] *",
   "language": "python",
   "name": "conda-base-py"
  },
  "language_info": {
   "codemirror_mode": {
    "name": "ipython",
    "version": 3
   },
   "file_extension": ".py",
   "mimetype": "text/x-python",
   "name": "python",
   "nbconvert_exporter": "python",
   "pygments_lexer": "ipython3",
   "version": "3.12.7"
  }
 },
 "nbformat": 4,
 "nbformat_minor": 4
}
